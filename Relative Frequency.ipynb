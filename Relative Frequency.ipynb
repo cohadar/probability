{
 "cells": [
  {
   "cell_type": "code",
   "execution_count": 43,
   "metadata": {
    "collapsed": true
   },
   "outputs": [],
   "source": [
    "import random\n",
    "import numpy as np\n",
    "import matplotlib.pyplot as plt\n"
   ]
  },
  {
   "cell_type": "code",
   "execution_count": 48,
   "metadata": {
    "collapsed": false
   },
   "outputs": [
    {
     "name": "stdout",
     "output_type": "stream",
     "text": [
      "0.50304503045\n"
     ]
    }
   ],
   "source": [
    "x = [] # absolute difference\n",
    "y = [] # relative frequency\n",
    "heads = 0\n",
    "for total in xrange(1, 100000):\n",
    "    if random.randint(0, 1) == 0:\n",
    "        heads += 1\n",
    "    x.append(heads - total / 2)\n",
    "    y.append(1.0 * heads / total)\n",
    "x = np.asarray(x)\n",
    "x = np.cumsum(x)\n",
    "y = np.asarray(y)\n",
    "plt.plot(x)\n",
    "plt.plot(y)\n",
    "plt.show()\n",
    "\n",
    "print y[-1]"
   ]
  },
  {
   "cell_type": "code",
   "execution_count": null,
   "metadata": {
    "collapsed": true
   },
   "outputs": [],
   "source": []
  }
 ],
 "metadata": {
  "kernelspec": {
   "display_name": "Python 2",
   "language": "python",
   "name": "python2"
  },
  "language_info": {
   "codemirror_mode": {
    "name": "ipython",
    "version": 2
   },
   "file_extension": ".py",
   "mimetype": "text/x-python",
   "name": "python",
   "nbconvert_exporter": "python",
   "pygments_lexer": "ipython2",
   "version": "2.7.10"
  }
 },
 "nbformat": 4,
 "nbformat_minor": 0
}
